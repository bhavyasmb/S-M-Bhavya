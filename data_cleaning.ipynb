{
 "cells": [
  {
   "cell_type": "code",
   "execution_count": 23,
   "id": "9b929d10",
   "metadata": {},
   "outputs": [
    {
     "name": "stdout",
     "output_type": "stream",
     "text": [
      "   Roll no.           Name  LICA   DLC  EM 2   T&D\n",
      "0         1       Abhinith  36.0  41.0  63.0  53.0\n",
      "1         2         Akilan  23.0  34.0  56.0  65.0\n",
      "2         3      Anulaxxmi  23.0   NaN  53.0  33.0\n",
      "3         4  Aravind Kumar  56.0  65.0   NaN  32.0\n",
      "4         5          Arjun  34.0  65.0  76.0   NaN\n",
      "5         6         Ashwin  25.0  55.0  23.0  54.0\n",
      "6         7           Arya   NaN  57.0  75.0  23.0\n",
      "7         8           Babu  75.0  54.0   NaN  43.0\n",
      "8         9  Balaganapathy  43.0   NaN  65.0  43.0\n",
      "9        10    Balamurugan  54.0  64.0  34.0  75.0\n"
     ]
    }
   ],
   "source": [
    "import pandas as pd\n",
    "pd.set_option(\"display.max_column\",7)\n",
    "df=pd.read_excel(\"sheet.xlsx\")\n",
    "print(df)\n"
   ]
  },
  {
   "cell_type": "code",
   "execution_count": 24,
   "id": "f6ccd0ba",
   "metadata": {},
   "outputs": [
    {
     "name": "stdout",
     "output_type": "stream",
     "text": [
      "   Roll no.           Name  LICA   DLC  EM 2   T&D\n",
      "0         1       Abhinith  36.0  41.0  63.0  53.0\n",
      "1         2         Akilan  23.0  34.0  56.0  65.0\n",
      "2         3      Anulaxxmi  23.0  34.0  53.0  33.0\n",
      "3         4  Aravind Kumar  56.0  65.0  53.0  32.0\n",
      "4         5          Arjun  34.0  65.0  76.0  32.0\n",
      "5         6         Ashwin  25.0  55.0  23.0  54.0\n",
      "6         7           Arya  25.0  57.0  75.0  23.0\n",
      "7         8           Babu  75.0  54.0  75.0  43.0\n",
      "8         9  Balaganapathy  43.0  54.0  65.0  43.0\n",
      "9        10    Balamurugan  54.0  64.0  34.0  75.0\n"
     ]
    }
   ],
   "source": [
    "k=df.fillna(method='Pad')\n",
    "print(k)\n",
    "k.to_excel(\"sheet.xlsx\")"
   ]
  },
  {
   "cell_type": "code",
   "execution_count": 18,
   "id": "1df13a64",
   "metadata": {},
   "outputs": [
    {
     "name": "stdout",
     "output_type": "stream",
     "text": [
      "   Roll no.           Name   DLC  EM 2\n",
      "0         1       Abhinith  41.0  63.0\n",
      "1         2         Akilan  34.0  56.0\n",
      "2         3      Anulaxxmi  34.0  53.0\n",
      "3         4  Aravind Kumar  65.0  53.0\n",
      "4         5          Arjun  65.0  76.0\n",
      "5         6         Ashwin  55.0  23.0\n",
      "6         7           Arya  57.0  75.0\n",
      "7         8           Babu  54.0  75.0\n",
      "8         9  Balaganapathy  54.0  65.0\n",
      "9        10    Balamurugan  64.0  34.0\n"
     ]
    }
   ],
   "source": [
    "k.drop(['LICA','T&D'],axis=1,inplace=True)\n",
    "print(k)\n",
    "k.to_excel(\"sheet.xlsx\")"
   ]
  },
  {
   "cell_type": "code",
   "execution_count": 28,
   "id": "e52ac0c5",
   "metadata": {},
   "outputs": [
    {
     "name": "stdout",
     "output_type": "stream",
     "text": [
      "\n",
      " Drop Nan row:\n",
      "\n",
      "   Unnamed: 0  Roll no.           Name  DLC  EM 2\n",
      "0           0         1       Abhinith   41    63\n",
      "1           1         2         Akilan   34    56\n",
      "2           2         3      Anulaxxmi   34    53\n",
      "3           3         4  Aravind Kumar   65    53\n",
      "4           4         5          Arjun   65    76\n",
      "5           5         6         Ashwin   55    23\n",
      "6           6         7           Arya   57    75\n",
      "7           7         8           Babu   54    75\n",
      "8           8         9  Balaganapathy   54    65\n",
      "9           9        10    Balamurugan   64    34\n",
      "   Unnamed: 0  Roll no.           Name  DLC  EM 2\n",
      "0           0         1       Abhinith   41    63\n",
      "1           1         2         Akilan   34    56\n",
      "2           2         3      Anulaxxmi   34    53\n",
      "3           3         4  Aravind Kumar   65    53\n",
      "4           4         5          Arjun   65    76\n",
      "5           5         6         Ashwin   55    23\n",
      "6           6         7           Arya   57    75\n",
      "7           7         8           Babu   54    75\n",
      "8           8         9  Balaganapathy   54    65\n",
      "9           9        10    Balamurugan   64    34\n"
     ]
    }
   ],
   "source": [
    "print(\"\\n Drop Nan row:\\n\")\n",
    "df=pd.read_excel(\"marks.xlsx\")\n",
    "print(df)\n",
    "x=df.dropna()\n",
    "print(x)\n",
    "x.to_excel(\"sheet.xlsx\")\n"
   ]
  },
  {
   "cell_type": "code",
   "execution_count": 39,
   "id": "a6531100",
   "metadata": {},
   "outputs": [
    {
     "name": "stdout",
     "output_type": "stream",
     "text": [
      "   Unnamed: 0  Roll no.           Name  DLC  EM 2\n",
      "0           0         1       Abhinith   41    63\n",
      "1           1         2         Akilan   34    56\n",
      "2           2         3      Anulaxxmi   34    53\n",
      "3           3         4  Aravind Kumar   70    53\n",
      "4           4         5          Arjun   70    76\n",
      "5           5         6         Ashwin   55    23\n",
      "6           6         7           Arya   57    75\n",
      "7           7         8           Babu   54    75\n",
      "8           8         9  Balaganapathy   54    70\n",
      "9           9        10    Balamurugan   64    34\n"
     ]
    }
   ],
   "source": [
    "\n",
    "y=df.replace({65:70})\n",
    "print(y)\n",
    "y.to_excel(\"sheet.xlsx\")"
   ]
  },
  {
   "cell_type": "code",
   "execution_count": 42,
   "id": "3c8ea87b",
   "metadata": {},
   "outputs": [
    {
     "name": "stdout",
     "output_type": "stream",
     "text": [
      "   Unnamed: 0  Roll no.    Name  DLC  EM 2\n",
      "1           1         2  Akilan   34    56\n"
     ]
    }
   ],
   "source": [
    "new=df['EM 2'].isin([56])\n",
    "print(df[new])"
   ]
  },
  {
   "cell_type": "code",
   "execution_count": null,
   "id": "1a120562",
   "metadata": {},
   "outputs": [],
   "source": []
  }
 ],
 "metadata": {
  "kernelspec": {
   "display_name": "Python 3 (ipykernel)",
   "language": "python",
   "name": "python3"
  },
  "language_info": {
   "codemirror_mode": {
    "name": "ipython",
    "version": 3
   },
   "file_extension": ".py",
   "mimetype": "text/x-python",
   "name": "python",
   "nbconvert_exporter": "python",
   "pygments_lexer": "ipython3",
   "version": "3.11.5"
  }
 },
 "nbformat": 4,
 "nbformat_minor": 5
}
