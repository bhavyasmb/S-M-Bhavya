{
 "cells": [
  {
   "cell_type": "code",
   "execution_count": 5,
   "id": "669118b8",
   "metadata": {},
   "outputs": [
    {
     "name": "stdout",
     "output_type": "stream",
     "text": [
      "(array([1, 4], dtype=int64),)\n"
     ]
    }
   ],
   "source": [
    "import numpy as np\n",
    "arr=np.array([1,6,2,7,6,4])\n",
    "print(np.where(arr==6))"
   ]
  },
  {
   "cell_type": "code",
   "execution_count": 6,
   "id": "f70e9333",
   "metadata": {},
   "outputs": [
    {
     "name": "stdout",
     "output_type": "stream",
     "text": [
      "4\n"
     ]
    }
   ],
   "source": [
    "arr1=np.array([0,1,2,2,7,8,9])\n",
    "print(np.searchsorted(arr1,3,side='left'))"
   ]
  },
  {
   "cell_type": "code",
   "execution_count": 7,
   "id": "528a0be4",
   "metadata": {},
   "outputs": [
    {
     "name": "stdout",
     "output_type": "stream",
     "text": [
      "[1 2 4 6 6 7]\n"
     ]
    }
   ],
   "source": [
    "print(np.sort(arr))"
   ]
  },
  {
   "cell_type": "code",
   "execution_count": 11,
   "id": "5317b842",
   "metadata": {},
   "outputs": [
    {
     "name": "stdout",
     "output_type": "stream",
     "text": [
      "[True, False, True, False]\n",
      "[1 3]\n"
     ]
    }
   ],
   "source": [
    "# boolean indexing\n",
    "ar=np.array([1,2,3,4])\n",
    "a=[True,False,True,False]\n",
    "na=ar[a]\n",
    "print(a)\n",
    "print(na)"
   ]
  },
  {
   "cell_type": "code",
   "execution_count": 12,
   "id": "a9a29cb2",
   "metadata": {},
   "outputs": [
    {
     "name": "stdout",
     "output_type": "stream",
     "text": [
      "[ True  True False False]\n"
     ]
    }
   ],
   "source": [
    "print(ar<3)"
   ]
  },
  {
   "cell_type": "code",
   "execution_count": null,
   "id": "83dbbe70",
   "metadata": {},
   "outputs": [],
   "source": []
  }
 ],
 "metadata": {
  "kernelspec": {
   "display_name": "Python 3 (ipykernel)",
   "language": "python",
   "name": "python3"
  },
  "language_info": {
   "codemirror_mode": {
    "name": "ipython",
    "version": 3
   },
   "file_extension": ".py",
   "mimetype": "text/x-python",
   "name": "python",
   "nbconvert_exporter": "python",
   "pygments_lexer": "ipython3",
   "version": "3.11.5"
  }
 },
 "nbformat": 4,
 "nbformat_minor": 5
}
