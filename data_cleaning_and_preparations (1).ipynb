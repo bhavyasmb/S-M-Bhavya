{
 "cells": [
  {
   "cell_type": "code",
   "execution_count": 6,
   "id": "04be4625",
   "metadata": {
    "scrolled": true
   },
   "outputs": [
    {
     "name": "stdout",
     "output_type": "stream",
     "text": [
      "        one       two     three\n",
      "a  1.811811  1.032734  0.010573\n",
      "e -0.275255 -0.684575 -0.509226\n",
      "d -0.607106  0.172301  1.157076\n",
      "f  2.471261  2.053435  1.097176\n",
      "        one       two     three\n",
      "a  1.811811  1.032734  0.010573\n",
      "b       NaN       NaN       NaN\n",
      "c       NaN       NaN       NaN\n",
      "d -0.607106  0.172301  1.157076\n",
      "e -0.275255 -0.684575 -0.509226\n",
      "f  2.471261  2.053435  1.097176\n",
      "g       NaN       NaN       NaN\n"
     ]
    }
   ],
   "source": [
    "import numpy as np\n",
    "import pandas as pd\n",
    "d=pd.DataFrame(np.random.randn(4,3),index=['a','e','d','f'],columns=['one','two','three'])\n",
    "print(d)\n",
    "d=d.reindex(['a','b','c','d','e','f','g'])\n",
    "print(d)"
   ]
  },
  {
   "cell_type": "code",
   "execution_count": 10,
   "id": "bd99ebac",
   "metadata": {},
   "outputs": [
    {
     "name": "stdout",
     "output_type": "stream",
     "text": [
      "        one       two     three\n",
      "a  1.811811  1.032734  0.010573\n",
      "d -0.607106  0.172301  1.157076\n",
      "e -0.275255 -0.684575 -0.509226\n",
      "f  2.471261  2.053435  1.097176\n",
      "\n"
     ]
    }
   ],
   "source": [
    "x=d\n",
    "print(d.dropna())\n",
    "print()"
   ]
  },
  {
   "cell_type": "code",
   "execution_count": 11,
   "id": "f8a8bfdc",
   "metadata": {},
   "outputs": [
    {
     "name": "stdout",
     "output_type": "stream",
     "text": [
      "        one       two     three\n",
      "a  1.811811  1.032734  0.010573\n",
      "b       NaN       NaN       NaN\n",
      "c       NaN       NaN       NaN\n",
      "d -0.607106  0.172301  1.157076\n",
      "e -0.275255 -0.684575 -0.509226\n",
      "f  2.471261  2.053435  1.097176\n",
      "g       NaN       NaN       NaN\n",
      "        one       two     three\n",
      "a  1.811811  1.032734  0.010573\n",
      "b  0.000000  0.000000  0.000000\n",
      "c  0.000000  0.000000  0.000000\n",
      "d -0.607106  0.172301  1.157076\n",
      "e -0.275255 -0.684575 -0.509226\n",
      "f  2.471261  2.053435  1.097176\n",
      "g  0.000000  0.000000  0.000000\n"
     ]
    }
   ],
   "source": [
    "print(x)\n",
    "print(x.fillna(0))"
   ]
  },
  {
   "cell_type": "code",
   "execution_count": 18,
   "id": "5d9984e9",
   "metadata": {},
   "outputs": [
    {
     "name": "stdout",
     "output_type": "stream",
     "text": [
      "   one  two\n",
      "0   10   60\n",
      "1   20   70\n",
      "2   30   20\n",
      "3   40   50\n",
      "4   50   10\n",
      "   one  two\n",
      "0   10   60\n",
      "1   20    3\n",
      "2   30   20\n",
      "3   40    5\n",
      "4    5   10\n",
      "\n"
     ]
    }
   ],
   "source": [
    "d=pd.DataFrame({'one':[10,20,30,40,50],'two':[60,70,20,50,10]})\n",
    "print(d)\n",
    "print(d.replace({50:5,70:3}))\n",
    "print()"
   ]
  },
  {
   "cell_type": "code",
   "execution_count": 28,
   "id": "ada0130b",
   "metadata": {},
   "outputs": [
    {
     "name": "stdout",
     "output_type": "stream",
     "text": [
      "        one       two     three\n",
      "a -0.872237 -0.374417 -1.426947\n",
      "e  1.171202  0.470080 -1.406320\n",
      "d  0.832560  0.851687  0.611157\n",
      "f  0.394782 -1.046575 -1.910872\n",
      "a    False\n",
      "b     True\n",
      "c    False\n",
      "d    False\n",
      "e     True\n",
      "f    False\n",
      "Name: one, dtype: bool\n"
     ]
    }
   ],
   "source": [
    "d=pd.DataFrame(np.random.randn(4,3),index=['a','e','d','f'],columns=['one','two','three'])\n",
    "print(d)\n",
    "d=d.reindex(['a','b','c','d','e','f','g'])\n",
    "\n",
    "print(df['one'].isnull())"
   ]
  },
  {
   "cell_type": "code",
   "execution_count": 31,
   "id": "6f54467e",
   "metadata": {},
   "outputs": [
    {
     "name": "stdout",
     "output_type": "stream",
     "text": [
      "        one       two     three\n",
      "a -2.309261 -1.087366 -0.044657\n",
      "b -2.309261 -1.087366 -0.044657\n",
      "c -0.733617  0.474276  1.725497\n",
      "d  0.627955 -0.670636 -0.342641\n",
      "e  0.627955 -0.670636 -0.342641\n",
      "f -0.424854  0.341153  0.411161\n"
     ]
    }
   ],
   "source": [
    "print(df.fillna(method=\"ffill\"))"
   ]
  },
  {
   "cell_type": "code",
   "execution_count": 32,
   "id": "7bbee299",
   "metadata": {},
   "outputs": [
    {
     "name": "stdout",
     "output_type": "stream",
     "text": [
      "        one       two     three\n",
      "a -2.309261 -1.087366 -0.044657\n",
      "b -0.733617  0.474276  1.725497\n",
      "c -0.733617  0.474276  1.725497\n",
      "d  0.627955 -0.670636 -0.342641\n",
      "e -0.424854  0.341153  0.411161\n",
      "f -0.424854  0.341153  0.411161\n"
     ]
    }
   ],
   "source": [
    "print(df.fillna(method=\"bfill\"))"
   ]
  },
  {
   "cell_type": "code",
   "execution_count": null,
   "id": "93eb52a7",
   "metadata": {},
   "outputs": [],
   "source": []
  }
 ],
 "metadata": {
  "kernelspec": {
   "display_name": "Python 3 (ipykernel)",
   "language": "python",
   "name": "python3"
  },
  "language_info": {
   "codemirror_mode": {
    "name": "ipython",
    "version": 3
   },
   "file_extension": ".py",
   "mimetype": "text/x-python",
   "name": "python",
   "nbconvert_exporter": "python",
   "pygments_lexer": "ipython3",
   "version": "3.11.5"
  }
 },
 "nbformat": 4,
 "nbformat_minor": 5
}
