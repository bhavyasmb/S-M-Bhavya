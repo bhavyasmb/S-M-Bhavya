{
 "cells": [
  {
   "cell_type": "code",
   "execution_count": 2,
   "id": "1b439f43",
   "metadata": {},
   "outputs": [
    {
     "name": "stdout",
     "output_type": "stream",
     "text": [
      "     ID      NAME DATE OF JOINING  SALARY LAST LOGIN TIME             TEAM  \\\n",
      "0  1001       abi       9/12/2011   62000          7:00AM           design   \n",
      "1  1002      kavi        3/6/2012   54000          7:10AM          finance   \n",
      "2  1003      arun        4/9/2016   50000          7:05AM       marketting   \n",
      "3  1004   sridhar        8/9/2016   40000          7:10AM  product manager   \n",
      "4  1005   akshaya        5/9/2020   30000          8:00AM           design   \n",
      "5  1006    adhira       18/9/2021   35000          7:00AM  product manager   \n",
      "6  1007   shanthi       2/12/2017   75000           7:30M           design   \n",
      "7  1008   bhaskar        1/3/2013   55000          7:45AM          finance   \n",
      "8  1009      bala        3/6/2016   65000          7:18AM       marketting   \n",
      "9  1010  selvasri        5/7/2019   50000          7:05AM           design   \n",
      "\n",
      "  GENDER  \n",
      "0      F  \n",
      "1      F  \n",
      "2      M  \n",
      "3      M  \n",
      "4      F  \n",
      "5      F  \n",
      "6      F  \n",
      "7      M  \n",
      "8      M  \n",
      "9      F  \n"
     ]
    }
   ],
   "source": [
    "import pandas as pd\n",
    "d=pd.read_csv(\"employee\")\n",
    "print(d)"
   ]
  },
  {
   "cell_type": "code",
   "execution_count": 9,
   "id": "1c8e39b3",
   "metadata": {},
   "outputs": [
    {
     "name": "stdout",
     "output_type": "stream",
     "text": [
      "columns:\n",
      " Index(['ID', 'NAME', 'DATE OF JOINING', 'SALARY', 'LAST LOGIN TIME', 'TEAM',\n",
      "       'GENDER'],\n",
      "      dtype='object')\n"
     ]
    }
   ],
   "source": [
    "c=pd.DataFrame(d)\n",
    "print(\"columns:\\n\",c.columns)\n"
   ]
  },
  {
   "cell_type": "code",
   "execution_count": 8,
   "id": "242f6359",
   "metadata": {},
   "outputs": [
    {
     "name": "stdout",
     "output_type": "stream",
     "text": [
      "(10, 7)\n"
     ]
    }
   ],
   "source": [
    "print(c.shape)"
   ]
  },
  {
   "cell_type": "code",
   "execution_count": 12,
   "id": "d9c3994a",
   "metadata": {},
   "outputs": [
    {
     "name": "stdout",
     "output_type": "stream",
     "text": [
      "     ID     NAME DATE OF JOINING  SALARY LAST LOGIN TIME             TEAM  \\\n",
      "2  1003     arun        4/9/2016   50000          7:05AM       marketting   \n",
      "3  1004  sridhar        8/9/2016   40000          7:10AM  product manager   \n",
      "4  1005  akshaya        5/9/2020   30000          8:00AM           design   \n",
      "\n",
      "  GENDER  \n",
      "2      M  \n",
      "3      M  \n",
      "4      F  \n"
     ]
    }
   ],
   "source": [
    "print(d[2:5])"
   ]
  },
  {
   "cell_type": "code",
   "execution_count": 14,
   "id": "8e8e370d",
   "metadata": {},
   "outputs": [
    {
     "name": "stdout",
     "output_type": "stream",
     "text": [
      "0             design\n",
      "1            finance\n",
      "2         marketting\n",
      "3    product manager\n",
      "4             design\n",
      "5    product manager\n",
      "6             design\n",
      "7            finance\n",
      "8         marketting\n",
      "9             design\n",
      "Name: TEAM, dtype: object\n"
     ]
    }
   ],
   "source": [
    "print(d[\"TEAM\"])"
   ]
  },
  {
   "cell_type": "code",
   "execution_count": 15,
   "id": "dcf0e92a",
   "metadata": {},
   "outputs": [
    {
     "name": "stdout",
     "output_type": "stream",
     "text": [
      "ID                            1006\n",
      "NAME                        adhira\n",
      "DATE OF JOINING          18/9/2021\n",
      "SALARY                       35000\n",
      "LAST LOGIN TIME             7:00AM\n",
      "TEAM               product manager\n",
      "GENDER                           F\n",
      "Name: 5, dtype: object\n"
     ]
    }
   ],
   "source": [
    "print(d.loc[5])"
   ]
  },
  {
   "cell_type": "code",
   "execution_count": 19,
   "id": "d45dd788",
   "metadata": {},
   "outputs": [
    {
     "name": "stdout",
     "output_type": "stream",
     "text": [
      "     ID     NAME DATE OF JOINING  SALARY LAST LOGIN TIME    TEAM GENDER\n",
      "4  1005  akshaya        5/9/2020   30000          8:00AM  design      F\n"
     ]
    }
   ],
   "source": [
    "print(d.loc[d['SALARY']==30000])"
   ]
  },
  {
   "cell_type": "code",
   "execution_count": 21,
   "id": "e03c8dc3",
   "metadata": {},
   "outputs": [
    {
     "name": "stdout",
     "output_type": "stream",
     "text": [
      "0    31000.0\n",
      "1    27000.0\n",
      "2    25000.0\n",
      "3    20000.0\n",
      "4    15000.0\n",
      "5    17500.0\n",
      "6    37500.0\n",
      "7    27500.0\n",
      "8    32500.0\n",
      "9    25000.0\n",
      "Name: SALARY, dtype: float64\n"
     ]
    }
   ],
   "source": [
    "print(d['SALARY']/2)"
   ]
  },
  {
   "cell_type": "code",
   "execution_count": null,
   "id": "e48004b7",
   "metadata": {},
   "outputs": [],
   "source": []
  }
 ],
 "metadata": {
  "kernelspec": {
   "display_name": "Python 3 (ipykernel)",
   "language": "python",
   "name": "python3"
  },
  "language_info": {
   "codemirror_mode": {
    "name": "ipython",
    "version": 3
   },
   "file_extension": ".py",
   "mimetype": "text/x-python",
   "name": "python",
   "nbconvert_exporter": "python",
   "pygments_lexer": "ipython3",
   "version": "3.11.5"
  }
 },
 "nbformat": 4,
 "nbformat_minor": 5
}
