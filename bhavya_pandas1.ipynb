{
 "cells": [
  {
   "cell_type": "code",
   "execution_count": 1,
   "id": "880bd9d0",
   "metadata": {},
   "outputs": [
    {
     "name": "stdout",
     "output_type": "stream",
     "text": [
      "Empty DataFrame\n",
      "Columns: []\n",
      "Index: []\n"
     ]
    }
   ],
   "source": [
    "import pandas as pd\n",
    "d=pd.DataFrame()\n",
    "print(d)"
   ]
  },
  {
   "cell_type": "code",
   "execution_count": 2,
   "id": "4d0c8392",
   "metadata": {},
   "outputs": [
    {
     "name": "stdout",
     "output_type": "stream",
     "text": [
      "      NAME  ID\n",
      "0     mahi   1\n",
      "1  dharani   2\n",
      "2     kavi   3\n"
     ]
    }
   ],
   "source": [
    "import pandas as pd\n",
    "d=pd.Series(['mahi','dharani','kavi'])\n",
    "id=pd.Series([1,2,3])\n",
    "f={'NAME':d,'ID':id}\n",
    "r=pd.DataFrame(f) \n",
    "print(r)"
   ]
  },
  {
   "cell_type": "code",
   "execution_count": 3,
   "id": "28972624",
   "metadata": {},
   "outputs": [
    {
     "name": "stdout",
     "output_type": "stream",
     "text": [
      "\n",
      "Extract one column:\n",
      "\n",
      "0       mahi\n",
      "1    dharani\n",
      "2       kavi\n",
      "Name: NAME, dtype: object\n"
     ]
    }
   ],
   "source": [
    "print(\"\\nExtract one column:\\n\")\n",
    "print(r['NAME'])\n"
   ]
  },
  {
   "cell_type": "code",
   "execution_count": 4,
   "id": "685c6729",
   "metadata": {},
   "outputs": [
    {
     "name": "stdout",
     "output_type": "stream",
     "text": [
      "\n",
      "Adding new column:\n",
      "\n",
      "      NAME  ID  AGE\n",
      "0     mahi   1   21\n",
      "1  dharani   2   16\n",
      "2     kavi   3   19\n"
     ]
    }
   ],
   "source": [
    "print('\\nAdding new column:\\n')\n",
    "\n",
    "r['AGE']=pd.Series([21,16,19])\n",
    "print(r)"
   ]
  },
  {
   "cell_type": "code",
   "execution_count": 5,
   "id": "8c2b7876",
   "metadata": {},
   "outputs": [
    {
     "name": "stdout",
     "output_type": "stream",
     "text": [
      "\n",
      "Extracting second row:\n",
      "\n",
      "NAME    dharani\n",
      "ID            2\n",
      "AGE          16\n",
      "Name: 1, dtype: object\n"
     ]
    }
   ],
   "source": [
    "print('\\nExtracting second row:\\n')\n",
    "print(r.loc[1])"
   ]
  },
  {
   "cell_type": "code",
   "execution_count": 6,
   "id": "ed7a0625",
   "metadata": {},
   "outputs": [
    {
     "name": "stdout",
     "output_type": "stream",
     "text": [
      "\n",
      " Deleting new column:\n",
      "\n",
      "      NAME  ID\n",
      "0     mahi   1\n",
      "1  dharani   2\n",
      "2     kavi   3\n"
     ]
    }
   ],
   "source": [
    "print('\\n Deleting new column:\\n')\n",
    "del r['AGE']\n",
    "print(r)"
   ]
  },
  {
   "cell_type": "code",
   "execution_count": 7,
   "id": "e5c77237",
   "metadata": {},
   "outputs": [
    {
     "name": "stdout",
     "output_type": "stream",
     "text": [
      "\n",
      " slice rows:\n",
      "       NAME  ID\n",
      "1  dharani   2\n",
      "2     kavi   3\n"
     ]
    }
   ],
   "source": [
    "print('\\n slice rows:\\n',r[1:4])"
   ]
  },
  {
   "cell_type": "code",
   "execution_count": 9,
   "id": "696adbb6",
   "metadata": {},
   "outputs": [
    {
     "name": "stdout",
     "output_type": "stream",
     "text": [
      "\n",
      " Adding new row values :\n",
      "       NAME  ID\n",
      "0     mahi   1\n",
      "1  dharani   2\n",
      "2     kavi   3\n",
      "0    bhavi   4\n",
      "1    rashi   5\n",
      "\n",
      " Deleting particular row :\n",
      "       NAME  ID\n",
      "0     mahi   1\n",
      "1  dharani   2\n",
      "NAME    dharani\n",
      "ID            2\n",
      "Name: 1, dtype: object\n",
      "\n",
      " Slice rows :\n",
      "        NAME  ID\n",
      "1  dharani   2\n",
      "2     kavi   3\n"
     ]
    }
   ],
   "source": [
    "x=pd.DataFrame([['bhavi',4],['rashi',5]],columns=['NAME','ID'])\n",
    "print(\"\\n Adding new row values :\\n\",pd.concat([r,x]))\n",
    "print(\"\\n Deleting particular row :\\n\",r.drop(2))\n",
    "print(r.loc[1])\n",
    "print(\"\\n Slice rows :\\n \",r[1:4])"
   ]
  },
  {
   "cell_type": "code",
   "execution_count": null,
   "id": "05eefc9c",
   "metadata": {},
   "outputs": [],
   "source": []
  },
  {
   "cell_type": "code",
   "execution_count": null,
   "id": "fa21f1c3",
   "metadata": {},
   "outputs": [],
   "source": []
  }
 ],
 "metadata": {
  "kernelspec": {
   "display_name": "Python 3 (ipykernel)",
   "language": "python",
   "name": "python3"
  },
  "language_info": {
   "codemirror_mode": {
    "name": "ipython",
    "version": 3
   },
   "file_extension": ".py",
   "mimetype": "text/x-python",
   "name": "python",
   "nbconvert_exporter": "python",
   "pygments_lexer": "ipython3",
   "version": "3.11.5"
  }
 },
 "nbformat": 4,
 "nbformat_minor": 5
}
