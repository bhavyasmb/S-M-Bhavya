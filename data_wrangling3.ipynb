{
 "cells": [
  {
   "cell_type": "code",
   "execution_count": 3,
   "id": "4485e985",
   "metadata": {},
   "outputs": [
    {
     "name": "stdout",
     "output_type": "stream",
     "text": [
      "\n",
      "Original DataFrame:\n",
      "        Brand  Year  Sold\n",
      "0     Maruti  2010     6\n",
      "1     Maruti  2011     7\n",
      "2     Maruti  2009     9\n",
      "3     Maruti  2013     8\n",
      "4    Hyundai  2010     3\n",
      "5    Hyundai  2011     5\n",
      "6     Toyota  2011     2\n",
      "7   Mahindra  2010     8\n",
      "8   Mahindra  2013     7\n",
      "9       Ford  2010     2\n",
      "10    Toyota  2010     4\n",
      "11      Ford  2011     2\n",
      "\n",
      "Group by year 2010:\n",
      "        Brand  Year  Sold\n",
      "0     Maruti  2010     6\n",
      "4    Hyundai  2010     3\n",
      "7   Mahindra  2010     8\n",
      "9       Ford  2010     2\n",
      "10    Toyota  2010     4\n"
     ]
    }
   ],
   "source": [
    "import pandas as pd\n",
    "car_selling_data ={'Brand':['Maruti','Maruti','Maruti','Maruti','Hyundai','Hyundai','Toyota','Mahindra','Mahindra','Ford'\n",
    ",'Toyota','Ford'],\n",
    "'Year':[2010, 2011, 2009, 2013, 2010, 2011, 2011, 2010, 2013, 2010, 2010, 2011],\n",
    "'Sold':[6, 7, 9, 8, 3, 5,2, 8, 7, 2, 4, 2]}\n",
    "df = pd. DataFrame(car_selling_data)\n",
    "print(\"\\nOriginal DataFrame:\\n\",df)\n",
    "grouped = df.groupby('Year')\n",
    "print(\"\\nGroup by year 2010:\\n\",grouped.get_group(2010))"
   ]
  },
  {
   "cell_type": "code",
   "execution_count": 7,
   "id": "06fb4f28",
   "metadata": {
    "scrolled": true
   },
   "outputs": [
    {
     "name": "stdout",
     "output_type": "stream",
     "text": [
      "\n",
      "Original DataFrame:\n",
      "         Name  Roll_no                 Email\n",
      "0       Amit       23        xxxx@gmail.com\n",
      "1    Praveen       54      xxxxxx@gmail.com\n",
      "2   Jagadesh       29      xxxxxx@gmail.com\n",
      "3      Rahul       36          xx@gmail.com\n",
      "4     Vishal       23        xxxx@gmail.com\n",
      "5      Suraj       38       xxxxx@gmail.com\n",
      "6     Rishab       12       xxxxx@gmail.com\n",
      "7    Sathish       45       xxxxx@gmail.com\n",
      "8       Amit       34       xxxxx@gmail.com\n",
      "9      Rahul       36      xxxxxx@gmail.com\n",
      "10   Praveen       54  xxxxxxxxxx@gmail.com\n",
      "11      Amit       23  xxxxxxxxxx@gmail.com\n",
      "\n",
      "Removed duplicated rows:\n",
      "        Name  Roll_no             Email\n",
      "0      Amit       23    xxxx@gmail.com\n",
      "1   Praveen       54  xxxxxx@gmail.com\n",
      "2  Jagadesh       29  xxxxxx@gmail.com\n",
      "3     Rahul       36      xx@gmail.com\n",
      "5     Suraj       38   xxxxx@gmail.com\n",
      "6    Rishab       12   xxxxx@gmail.com\n",
      "7   Sathish       45   xxxxx@gmail.com\n",
      "8      Amit       34   xxxxx@gmail.com\n"
     ]
    }
   ],
   "source": [
    "student_data = {'Name': ['Amit', 'Praveen', 'Jagadesh','Rahul', 'Vishal', 'Suraj','Rishab', 'Sathish',\n",
    "'Amit','Rahul', 'Praveen', 'Amit'],\n",
    "'Roll_no': [23,54,29,36,23,38,12,45,34,36,54,23],\n",
    "'Email': ['xxxx@gmail.com', 'xxxxxx@gmail.com','xxxxxx@gmail.com','xx@gmail.com',\n",
    "'xxxx@gmail.com', 'xxxxx@gmail.com','xxxxx@gmail.com', 'xxxxx@gmail.com',\n",
    "'xxxxx@gmail.com', 'xxxxxx@gmail.com','xxxxxxxxxx@gmail.com',\n",
    "'xxxxxxxxxx@gmail.com']}\n",
    "df=pd.DataFrame(student_data)\n",
    "print(\"\\nOriginal DataFrame:\\n\",df)\n",
    "non_duplicate = df[~df.duplicated('Roll_no')]\n",
    "print(\"\\nRemoved duplicated rows:\\n\",non_duplicate)"
   ]
  },
  {
   "cell_type": "code",
   "execution_count": 8,
   "id": "3a957c57",
   "metadata": {},
   "outputs": [
    {
     "name": "stdout",
     "output_type": "stream",
     "text": [
      "\n",
      "Original DataFrame:\n",
      "         Name  Roll_no                 Email\n",
      "0       Amit       23        xxxx@gmail.com\n",
      "1    Praveen       54      xxxxxx@gmail.com\n",
      "2   Jagadesh       29      xxxxxx@gmail.com\n",
      "3      Rahul       36          xx@gmail.com\n",
      "4     Vishal       23        xxxx@gmail.com\n",
      "5      Suraj       38       xxxxx@gmail.com\n",
      "6     Rishab       12       xxxxx@gmail.com\n",
      "7    Sathish       45       xxxxx@gmail.com\n",
      "8       Amit       34       xxxxx@gmail.com\n",
      "9      Rahul       36      xxxxxx@gmail.com\n",
      "10   Praveen       54  xxxxxxxxxx@gmail.com\n",
      "11      Amit       23  xxxxxxxxxx@gmail.com\n",
      "\n",
      "rows which are duplicated:\n",
      "        Name  Roll_no                 Email\n",
      "4    Vishal       23        xxxx@gmail.com\n",
      "9     Rahul       36      xxxxxx@gmail.com\n",
      "10  Praveen       54  xxxxxxxxxx@gmail.com\n",
      "11     Amit       23  xxxxxxxxxx@gmail.com\n"
     ]
    }
   ],
   "source": [
    "student_data = {'Name': ['Amit', 'Praveen', 'Jagadesh','Rahul', 'Vishal', 'Suraj','Rishab', 'Sathish',\n",
    "'Amit','Rahul', 'Praveen', 'Amit'],\n",
    "'Roll_no': [23,54,29,36,23,38,12,45,34,36,54,23],\n",
    "'Email': ['xxxx@gmail.com', 'xxxxxx@gmail.com','xxxxxx@gmail.com','xx@gmail.com',\n",
    "'xxxx@gmail.com', 'xxxxx@gmail.com','xxxxx@gmail.com', 'xxxxx@gmail.com',\n",
    "'xxxxx@gmail.com', 'xxxxxx@gmail.com','xxxxxxxxxx@gmail.com',\n",
    "'xxxxxxxxxx@gmail.com']}\n",
    "df=pd.DataFrame(student_data)\n",
    "print(\"\\nOriginal DataFrame:\\n\",df)\n",
    "non_duplicate = df[df.duplicated('Roll_no')]\n",
    "print(\"\\nrows which are duplicated:\\n\",non_duplicate)"
   ]
  },
  {
   "cell_type": "code",
   "execution_count": null,
   "id": "ed6c47dd",
   "metadata": {},
   "outputs": [],
   "source": []
  }
 ],
 "metadata": {
  "kernelspec": {
   "display_name": "Python 3 (ipykernel)",
   "language": "python",
   "name": "python3"
  },
  "language_info": {
   "codemirror_mode": {
    "name": "ipython",
    "version": 3
   },
   "file_extension": ".py",
   "mimetype": "text/x-python",
   "name": "python",
   "nbconvert_exporter": "python",
   "pygments_lexer": "ipython3",
   "version": "3.11.5"
  }
 },
 "nbformat": 4,
 "nbformat_minor": 5
}
