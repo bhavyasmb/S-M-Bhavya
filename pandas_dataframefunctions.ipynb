{
 "cells": [
  {
   "cell_type": "code",
   "execution_count": 1,
   "id": "f20fe64a",
   "metadata": {},
   "outputs": [
    {
     "name": "stdout",
     "output_type": "stream",
     "text": [
      "Dataframe apply function :\n",
      "\n",
      "\n",
      " Original DataFrame :\n",
      "    S  R\n",
      "0  3  9\n",
      "1  3  9\n",
      "2  3  9\n",
      "3  3  9\n",
      "\n",
      " Squareroot of Dataframe :\n",
      "           S    R\n",
      "0  1.732051  3.0\n",
      "1  1.732051  3.0\n",
      "2  1.732051  3.0\n",
      "3  1.732051  3.0\n",
      "\n",
      " Sum of each column : \n",
      " S    12\n",
      "R    36\n",
      "dtype: int64\n",
      "\n",
      " Sum of each row : \n",
      " 0    12\n",
      "1    12\n",
      "2    12\n",
      "3    12\n",
      "dtype: int64\n"
     ]
    }
   ],
   "source": [
    "import pandas as pd\n",
    "import numpy as np\n",
    "print(\"Dataframe apply function :\\n\")\n",
    "info=pd.DataFrame([[3,9]]*4,columns=['S','R'])\n",
    "print(\"\\n Original DataFrame :\\n\",info)\n",
    "print(\"\\n Squareroot of Dataframe :\\n\",info.apply(np.sqrt))\n",
    "print(\"\\n Sum of each column : \\n\",info.apply(np.sum,axis=0))\n",
    "print(\"\\n Sum of each row : \\n\",info.apply(np.sum,axis=1))\n"
   ]
  },
  {
   "cell_type": "code",
   "execution_count": 6,
   "id": "b958fcff",
   "metadata": {},
   "outputs": [
    {
     "name": "stdout",
     "output_type": "stream",
     "text": [
      "   X  Y  Z\n",
      "0  2  4  6\n",
      "1  1  3  5\n",
      "2  5  8  7\n",
      "     X  Y  Z\n",
      "min  1  3  5\n",
      "max  5  8  7\n",
      "   Emp  Id\n",
      "0  sai  88\n",
      "1  poo  70\n"
     ]
    }
   ],
   "source": [
    "import pandas as pd\n",
    "import numpy as np\n",
    "info=pd.DataFrame([[2,4,6],[1,3,5],[5,8,7]],columns=['X','Y','Z'])\n",
    "print(info)\n",
    "print(info.agg(['min','max']))\n",
    "d2=pd.DataFrame([['sai',88],['poo',70]],columns=['Emp','Id'])\n",
    "print(d2)"
   ]
  },
  {
   "cell_type": "code",
   "execution_count": 8,
   "id": "e7ab05a8",
   "metadata": {},
   "outputs": [
    {
     "name": "stdout",
     "output_type": "stream",
     "text": [
      "   Emp  Id  age\n",
      "0  sai  88   20\n",
      "1  poo  70   18\n",
      "   Emp  Id  age     sex\n",
      "0  sai  88   20    male\n",
      "1  poo  70   18  female\n"
     ]
    }
   ],
   "source": [
    "d2['age']=[20,18]\n",
    "print(d2)\n",
    "d=d2.assign(sex=['male','female'])\n",
    "print(d)"
   ]
  },
  {
   "cell_type": "code",
   "execution_count": 9,
   "id": "4ee3f8cf",
   "metadata": {},
   "outputs": [
    {
     "name": "stdout",
     "output_type": "stream",
     "text": [
      "       col3      col4\n",
      "3 -0.277709 -0.888105\n",
      "2 -1.234152  0.228713\n",
      "0  0.749861  0.384094\n",
      "4 -0.828534 -0.131290\n",
      "1  1.378903  1.137735\n"
     ]
    }
   ],
   "source": [
    "info=pd.DataFrame(np.random.randn(5,2),index=[3,2,0,4,1],columns=['col3','col4'])\n",
    "print(info)"
   ]
  },
  {
   "cell_type": "code",
   "execution_count": 12,
   "id": "676be9a0",
   "metadata": {},
   "outputs": [
    {
     "name": "stdout",
     "output_type": "stream",
     "text": [
      "       col3      col4\n",
      "0  0.749861  0.384094\n",
      "1  1.378903  1.137735\n",
      "2 -1.234152  0.228713\n",
      "3 -0.277709 -0.888105\n",
      "4 -0.828534 -0.131290\n"
     ]
    }
   ],
   "source": [
    "info2=info.sort_index()\n",
    "print(info2)"
   ]
  },
  {
   "cell_type": "code",
   "execution_count": 15,
   "id": "bc83b7e9",
   "metadata": {},
   "outputs": [
    {
     "name": "stdout",
     "output_type": "stream",
     "text": [
      "       col3      col4\n",
      "2 -1.234152  0.228713\n",
      "4 -0.828534 -0.131290\n",
      "3 -0.277709 -0.888105\n",
      "0  0.749861  0.384094\n",
      "1  1.378903  1.137735\n"
     ]
    }
   ],
   "source": [
    "info3=info.sort_values(by='col3')\n",
    "print(info3)"
   ]
  },
  {
   "cell_type": "code",
   "execution_count": 19,
   "id": "a7af2e93",
   "metadata": {},
   "outputs": [
    {
     "name": "stdout",
     "output_type": "stream",
     "text": [
      "   Id Name_x sub_x Name_y sub_y\n",
      "0   1    sai   hae    tre   sae\n",
      "1   2    sle   iop    ghk   opk\n",
      "2   3    kai   tyu    hji   nbv\n"
     ]
    }
   ],
   "source": [
    "left=pd.DataFrame({'Id':[1,2,3],'Name':['sai','sle','kai'],'sub':['hae','iop','tyu']})\n",
    "right=pd.DataFrame({'Id':[1,2,3],'Name':['tre','ghk','hji'],'sub':['sae','opk','nbv']})\n",
    "print(pd.merge(left,right,on='Id'))\n",
    "\n"
   ]
  },
  {
   "cell_type": "code",
   "execution_count": null,
   "id": "c0472a6e",
   "metadata": {},
   "outputs": [],
   "source": []
  }
 ],
 "metadata": {
  "kernelspec": {
   "display_name": "Python 3 (ipykernel)",
   "language": "python",
   "name": "python3"
  },
  "language_info": {
   "codemirror_mode": {
    "name": "ipython",
    "version": 3
   },
   "file_extension": ".py",
   "mimetype": "text/x-python",
   "name": "python",
   "nbconvert_exporter": "python",
   "pygments_lexer": "ipython3",
   "version": "3.11.5"
  }
 },
 "nbformat": 4,
 "nbformat_minor": 5
}
