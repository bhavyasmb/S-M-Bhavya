{
 "cells": [
  {
   "cell_type": "code",
   "execution_count": 3,
   "id": "021ea97b",
   "metadata": {},
   "outputs": [
    {
     "name": "stdout",
     "output_type": "stream",
     "text": [
      "       A      B  C  D  E\n",
      "0    sai    one  1  3  4\n",
      "1   sube    two  3  4  3\n",
      "2  divya  three  4  4  0\n",
      "3   yuvi    one  4  0  3\n",
      "4  rithi  three  2  2  2\n",
      "5  sangi    two  4  2  3\n"
     ]
    }
   ],
   "source": [
    "import pandas as pd\n",
    "import numpy as np\n",
    "a=pd.DataFrame({'A' : ['sai','sube','divya','yuvi','rithi','sangi'],'B' : ['one','two','three','one','three','two'],'C' : np.random.randint(5,size=6),'D' : np.random.randint(5,size=6),'E' : np.random.randint(5,size=6)})\n",
    "print(a)"
   ]
  },
  {
   "cell_type": "code",
   "execution_count": 4,
   "id": "e1ffc7ab",
   "metadata": {},
   "outputs": [
    {
     "name": "stdout",
     "output_type": "stream",
     "text": [
      "       A      B  C  D\n",
      "0    sai    one  2  4\n",
      "1    poo    two  0  3\n",
      "2    sub  three  1  1\n",
      "3   yuvi    one  4  1\n",
      "4  rithi  three  3  2\n",
      "5  sangu    two  0  3\n",
      "6    sai    one  1  2\n",
      "7    poo    two  1  0\n",
      "       A  C\n",
      "0    poo  1\n",
      "1  rithi  3\n",
      "2    sai  3\n",
      "3  sangu  0\n",
      "4    sub  1\n",
      "5   yuvi  4\n"
     ]
    }
   ],
   "source": [
    "import pandas as pd\n",
    "import numpy as np\n",
    "df=pd.DataFrame({'A':['sai','poo','sub','yuvi','rithi','sangu','sai','poo'],'B':['one','two','three','one','three','two','one','two'],'C':np.random.randint(5,size=8),'D':np.random.randint(5,size=8)})\n",
    "print(df)\n",
    "df1=df.groupby('A', as_index=False)['C'].sum()\n",
    "print(df1)"
   ]
  },
  {
   "cell_type": "code",
   "execution_count": 5,
   "id": "4ba83b33",
   "metadata": {},
   "outputs": [
    {
     "name": "stdout",
     "output_type": "stream",
     "text": [
      "       A      B  C\n",
      "0    poo    two  1\n",
      "1  rithi  three  3\n",
      "2    sai    one  3\n",
      "3  sangu    two  0\n",
      "4    sub  three  1\n",
      "5   yuvi    one  4\n"
     ]
    }
   ],
   "source": [
    "df2=df.groupby(['A','B'], as_index=False)['C'].sum()\n",
    "print(df2)"
   ]
  },
  {
   "cell_type": "code",
   "execution_count": null,
   "id": "6c39437d",
   "metadata": {},
   "outputs": [],
   "source": []
  },
  {
   "cell_type": "code",
   "execution_count": 12,
   "id": "f42145ee",
   "metadata": {},
   "outputs": [
    {
     "name": "stdout",
     "output_type": "stream",
     "text": [
      "  Category  sales  profit\n",
      "0        A    100      10\n",
      "1        B    200      15\n",
      "2        C    150      20\n",
      "3        A    150      25\n",
      "4        B    130      30\n",
      "5        C    200      15\n"
     ]
    }
   ],
   "source": [
    "import pandas as pd\n",
    "a=pd.DataFrame({'Category':['A','B','C','A','B','C'],'sales':[100,200,150,150,130,200],'profit':[10,15,20,25,30,15]})\n",
    "print(a)"
   ]
  },
  {
   "cell_type": "code",
   "execution_count": 14,
   "id": "69c047cd",
   "metadata": {},
   "outputs": [
    {
     "name": "stdout",
     "output_type": "stream",
     "text": [
      "         sales        profit    \n",
      "           sum   mean    sum max\n",
      "Category                        \n",
      "A          250  125.0     35  25\n",
      "B          330  165.0     45  30\n",
      "C          350  175.0     35  20\n"
     ]
    }
   ],
   "source": [
    "b=a.groupby('Category').agg({'sales':['sum','mean'],'profit':['sum','max']})\n",
    "print(b)"
   ]
  },
  {
   "cell_type": "code",
   "execution_count": null,
   "id": "247c25a4",
   "metadata": {},
   "outputs": [],
   "source": []
  }
 ],
 "metadata": {
  "kernelspec": {
   "display_name": "Python 3 (ipykernel)",
   "language": "python",
   "name": "python3"
  },
  "language_info": {
   "codemirror_mode": {
    "name": "ipython",
    "version": 3
   },
   "file_extension": ".py",
   "mimetype": "text/x-python",
   "name": "python",
   "nbconvert_exporter": "python",
   "pygments_lexer": "ipython3",
   "version": "3.11.5"
  }
 },
 "nbformat": 4,
 "nbformat_minor": 5
}
