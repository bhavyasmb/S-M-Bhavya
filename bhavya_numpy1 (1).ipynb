{
 "cells": [
  {
   "cell_type": "code",
   "execution_count": 7,
   "id": "db8a5882",
   "metadata": {},
   "outputs": [
    {
     "name": "stdout",
     "output_type": "stream",
     "text": [
      "One Dimensional array:\n",
      " [10 20 30]\n",
      "Two dimensional array:\n",
      " [[10 30 60]\n",
      " [ 8 60 70]]\n"
     ]
    }
   ],
   "source": [
    "import numpy as np\n",
    "a=np.array([10,20,30])\n",
    "print(\"One Dimensional array:\\n\",a)\n",
    "\n",
    "import numpy as np\n",
    "b=np.array([[10,30,60],[8,60,70]])\n",
    "print(\"Two dimensional array:\\n\",b)\n"
   ]
  },
  {
   "cell_type": "code",
   "execution_count": 1,
   "id": "cab8f868",
   "metadata": {},
   "outputs": [
    {
     "name": "stdout",
     "output_type": "stream",
     "text": [
      "[[0. 0. 0. 0.]\n",
      " [0. 0. 0. 0.]\n",
      " [0. 0. 0. 0.]]\n"
     ]
    }
   ],
   "source": [
    "import numpy as np\n",
    "w=np.zeros((3,4))\n",
    "print(w)"
   ]
  },
  {
   "cell_type": "code",
   "execution_count": 2,
   "id": "ef799911",
   "metadata": {},
   "outputs": [
    {
     "name": "stdout",
     "output_type": "stream",
     "text": [
      "[[0.27782848 0.11635632]\n",
      " [0.75099193 0.75585418]\n",
      " [0.50000859 0.50433497]]\n"
     ]
    }
   ],
   "source": [
    "import numpy as np\n",
    "o=np.random.random((3,2))\n",
    "print(o)"
   ]
  },
  {
   "cell_type": "code",
   "execution_count": 3,
   "id": "83ae5bef",
   "metadata": {},
   "outputs": [
    {
     "name": "stdout",
     "output_type": "stream",
     "text": [
      "[1 2 3 4 5 6 7 8 9]\n"
     ]
    }
   ],
   "source": [
    "import numpy as np\n",
    "p=np.arange(1,10,1)\n",
    "print(p)\n"
   ]
  },
  {
   "cell_type": "code",
   "execution_count": 4,
   "id": "7ff6eabb",
   "metadata": {},
   "outputs": [
    {
     "name": "stdout",
     "output_type": "stream",
     "text": [
      "[1 3 5 7 9]\n"
     ]
    }
   ],
   "source": [
    "import numpy as np\n",
    "p=np.arange(1,10,2)\n",
    "print(p)"
   ]
  },
  {
   "cell_type": "code",
   "execution_count": 5,
   "id": "7f275dfe",
   "metadata": {},
   "outputs": [
    {
     "name": "stdout",
     "output_type": "stream",
     "text": [
      "[0 2 4 6 8]\n"
     ]
    }
   ],
   "source": [
    "import numpy as np\n",
    "p=np.arange(0,10,2)\n",
    "print(p)\n"
   ]
  },
  {
   "cell_type": "code",
   "execution_count": null,
   "id": "ac616afb",
   "metadata": {},
   "outputs": [],
   "source": []
  },
  {
   "cell_type": "code",
   "execution_count": 6,
   "id": "1768245f",
   "metadata": {},
   "outputs": [
    {
     "name": "stdout",
     "output_type": "stream",
     "text": [
      "original array:\n",
      " [[5 6 7 3]\n",
      " [3 5 8 0]\n",
      " [7 9 0 1]]\n",
      "reshaped array:\n",
      " [[5 6 7]\n",
      " [3 3 5]\n",
      " [8 0 7]\n",
      " [9 0 1]]\n"
     ]
    }
   ],
   "source": [
    "import numpy as np\n",
    "a=np.array([[5,6,7,3],[3,5,8,0],[7,9,0,1]])\n",
    "n=a.reshape((4,3))\n",
    "print(\"original array:\\n\",a)\n",
    "print(\"reshaped array:\\n\",n)\n"
   ]
  },
  {
   "cell_type": "code",
   "execution_count": 8,
   "id": "28cb2cb9",
   "metadata": {},
   "outputs": [
    {
     "name": "stdout",
     "output_type": "stream",
     "text": [
      "[[0. 0. 0.]\n",
      " [0. 0. 0.]\n",
      " [0. 0. 0.]\n",
      " [0. 0. 0.]\n",
      " [0. 0. 0.]]\n"
     ]
    }
   ],
   "source": [
    "import numpy as np\n",
    "e=np.zeros((5,3))\n",
    "print(e)"
   ]
  },
  {
   "cell_type": "code",
   "execution_count": null,
   "id": "5d340808",
   "metadata": {},
   "outputs": [],
   "source": [
    "\n"
   ]
  },
  {
   "cell_type": "code",
   "execution_count": 14,
   "id": "64d3a871",
   "metadata": {},
   "outputs": [
    {
     "name": "stdout",
     "output_type": "stream",
     "text": [
      "[ 1  6 11 16 21 26 31 36 41 46 51 56 61 66 71 76 81 86 91 96]\n"
     ]
    }
   ],
   "source": [
    "import numpy as np\n",
    "p=np.arange(1,100,5)\n",
    "print(p)\n"
   ]
  },
  {
   "cell_type": "code",
   "execution_count": 18,
   "id": "4c7ab6cb",
   "metadata": {},
   "outputs": [
    {
     "name": "stdout",
     "output_type": "stream",
     "text": [
      "[[0.56382271 0.28052182 0.47237859]\n",
      " [0.79363063 0.49294594 0.0893758 ]\n",
      " [0.45117195 0.80179612 0.06899232]\n",
      " [0.32967748 0.43054395 0.90348006]\n",
      " [0.3762655  0.51130286 0.87268318]]\n"
     ]
    }
   ],
   "source": [
    "d=np.random.random((5,3))\n",
    "print(d)"
   ]
  },
  {
   "cell_type": "code",
   "execution_count": 19,
   "id": "94426273",
   "metadata": {},
   "outputs": [
    {
     "name": "stdout",
     "output_type": "stream",
     "text": [
      "[[0.56382271 0.28052182 0.47237859 0.79363063 0.49294594]\n",
      " [0.0893758  0.45117195 0.80179612 0.06899232 0.32967748]\n",
      " [0.43054395 0.90348006 0.3762655  0.51130286 0.87268318]]\n"
     ]
    }
   ],
   "source": [
    "g=d.reshape((3,5))\n",
    "print(g)"
   ]
  },
  {
   "cell_type": "code",
   "execution_count": 26,
   "id": "1ce26273",
   "metadata": {},
   "outputs": [
    {
     "name": "stdout",
     "output_type": "stream",
     "text": [
      "[[1 2 3]\n",
      " [4 5 6]\n",
      " [7 8 9]]\n"
     ]
    }
   ],
   "source": [
    "import numpy as np\n",
    "arr=np.array([[1,2,3],[4,5,6],[7,8,9]])\n",
    "print(arr)"
   ]
  },
  {
   "cell_type": "raw",
   "id": "3963da31",
   "metadata": {},
   "source": []
  },
  {
   "cell_type": "code",
   "execution_count": 34,
   "id": "8a8bf745",
   "metadata": {},
   "outputs": [
    {
     "name": "stdout",
     "output_type": "stream",
     "text": [
      "[1 2 3 4 5 6 7 8 9]\n"
     ]
    }
   ],
   "source": [
    "g=arr.flatten()\n",
    "print(g)"
   ]
  },
  {
   "cell_type": "code",
   "execution_count": null,
   "id": "235500a3",
   "metadata": {},
   "outputs": [],
   "source": []
  },
  {
   "cell_type": "code",
   "execution_count": 31,
   "id": "60c17af7",
   "metadata": {},
   "outputs": [
    {
     "name": "stdout",
     "output_type": "stream",
     "text": [
      "[ 1  2  3  4  5  6  7  8  9 11 12 13]\n"
     ]
    }
   ],
   "source": [
    "g=arr.flatten()\n",
    "print(g)"
   ]
  },
  {
   "cell_type": "code",
   "execution_count": 38,
   "id": "50db4799",
   "metadata": {},
   "outputs": [
    {
     "name": "stdout",
     "output_type": "stream",
     "text": [
      "Number of dimensions: 2\n"
     ]
    }
   ],
   "source": [
    "f=arr.ndim\n",
    "print(\"Number of dimensions:\",f)"
   ]
  },
  {
   "cell_type": "code",
   "execution_count": 5,
   "id": "42d7edd8",
   "metadata": {},
   "outputs": [
    {
     "name": "stdout",
     "output_type": "stream",
     "text": [
      "\n",
      " shape of an array: (3, 3)\n"
     ]
    }
   ],
   "source": [
    "print(\"\\n shape of an array:\",arr.shape)"
   ]
  },
  {
   "cell_type": "code",
   "execution_count": 15,
   "id": "d140464a",
   "metadata": {},
   "outputs": [
    {
     "name": "stdout",
     "output_type": "stream",
     "text": [
      "int32\n"
     ]
    }
   ],
   "source": [
    "print(arr.dtype)"
   ]
  },
  {
   "cell_type": "code",
   "execution_count": 14,
   "id": "0c8375ad",
   "metadata": {},
   "outputs": [
    {
     "name": "stdout",
     "output_type": "stream",
     "text": [
      "[[1. 2. 3.]\n",
      " [4. 5. 6.]\n",
      " [7. 8. 9.]]\n"
     ]
    }
   ],
   "source": [
    "arrf=arr.astype('f')\n",
    "print(arrf)"
   ]
  },
  {
   "cell_type": "code",
   "execution_count": 13,
   "id": "02dfe3ac",
   "metadata": {},
   "outputs": [
    {
     "name": "stdout",
     "output_type": "stream",
     "text": [
      "float32\n"
     ]
    }
   ],
   "source": [
    "print(arrf.dtype)"
   ]
  },
  {
   "cell_type": "code",
   "execution_count": 27,
   "id": "bddcf789",
   "metadata": {},
   "outputs": [
    {
     "name": "stdout",
     "output_type": "stream",
     "text": [
      "9\n"
     ]
    }
   ],
   "source": [
    "print(arr.size)"
   ]
  },
  {
   "cell_type": "code",
   "execution_count": null,
   "id": "9f7c9d92",
   "metadata": {},
   "outputs": [],
   "source": []
  }
 ],
 "metadata": {
  "kernelspec": {
   "display_name": "Python 3 (ipykernel)",
   "language": "python",
   "name": "python3"
  },
  "language_info": {
   "codemirror_mode": {
    "name": "ipython",
    "version": 3
   },
   "file_extension": ".py",
   "mimetype": "text/x-python",
   "name": "python",
   "nbconvert_exporter": "python",
   "pygments_lexer": "ipython3",
   "version": "3.11.3"
  }
 },
 "nbformat": 4,
 "nbformat_minor": 5
}
