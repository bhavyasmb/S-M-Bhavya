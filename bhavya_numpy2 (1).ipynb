{
 "cells": [
  {
   "cell_type": "code",
   "execution_count": 1,
   "id": "90705bf5",
   "metadata": {},
   "outputs": [
    {
     "name": "stdout",
     "output_type": "stream",
     "text": [
      "[3 4 5 6]\n"
     ]
    }
   ],
   "source": [
    "import numpy as np\n",
    "arr=np.array([1,2,3,4,5,6,7,8,9])\n",
    "print(arr[2:6])"
   ]
  },
  {
   "cell_type": "code",
   "execution_count": 2,
   "id": "371884fc",
   "metadata": {},
   "outputs": [
    {
     "name": "stdout",
     "output_type": "stream",
     "text": [
      "[2 4 6]\n"
     ]
    }
   ],
   "source": [
    "print(arr[1:7:2])"
   ]
  },
  {
   "cell_type": "code",
   "execution_count": 7,
   "id": "39b9cb3f",
   "metadata": {},
   "outputs": [
    {
     "name": "stdout",
     "output_type": "stream",
     "text": [
      "[9 8 7 6 5 4 3 2 1]\n"
     ]
    }
   ],
   "source": [
    "print(arr[::-1])"
   ]
  },
  {
   "cell_type": "code",
   "execution_count": 9,
   "id": "4749186c",
   "metadata": {},
   "outputs": [
    {
     "name": "stdout",
     "output_type": "stream",
     "text": [
      "[[10 20 30]\n",
      " [40 50 60]\n",
      " [70 80 90]]\n"
     ]
    }
   ],
   "source": [
    "import numpy as np\n",
    "arr2=np.array([[10,20,30],[40,50,60],[70,80,90]])\n",
    "print(arr2)"
   ]
  },
  {
   "cell_type": "code",
   "execution_count": 20,
   "id": "c508721a",
   "metadata": {},
   "outputs": [
    {
     "name": "stdout",
     "output_type": "stream",
     "text": [
      "[[10 20 30]\n",
      " [40 50 60]\n",
      " [70 80 90]]\n"
     ]
    }
   ],
   "source": [
    "print(arr2[0:3,0:3])"
   ]
  },
  {
   "cell_type": "code",
   "execution_count": 23,
   "id": "88c71978",
   "metadata": {},
   "outputs": [
    {
     "name": "stdout",
     "output_type": "stream",
     "text": [
      "[[20 30]\n",
      " [50 60]\n",
      " [80 90]]\n"
     ]
    }
   ],
   "source": [
    "print(arr2[0:3,1:3])"
   ]
  },
  {
   "cell_type": "code",
   "execution_count": 33,
   "id": "31ce4ce9",
   "metadata": {},
   "outputs": [
    {
     "name": "stdout",
     "output_type": "stream",
     "text": [
      "[10 40 70]\n"
     ]
    }
   ],
   "source": [
    "print(arr2[:,0])"
   ]
  },
  {
   "cell_type": "code",
   "execution_count": 36,
   "id": "e6e8e85a",
   "metadata": {},
   "outputs": [
    {
     "name": "stdout",
     "output_type": "stream",
     "text": [
      "[40 50 60]\n"
     ]
    }
   ],
   "source": [
    "print(arr2[1,:])"
   ]
  },
  {
   "cell_type": "code",
   "execution_count": 40,
   "id": "99b12dac",
   "metadata": {},
   "outputs": [
    {
     "name": "stdout",
     "output_type": "stream",
     "text": [
      "10 60\n"
     ]
    }
   ],
   "source": [
    "print(arr2[0,0],arr2[1,2])"
   ]
  },
  {
   "cell_type": "code",
   "execution_count": 42,
   "id": "664abfa0",
   "metadata": {},
   "outputs": [
    {
     "name": "stdout",
     "output_type": "stream",
     "text": [
      "5\n"
     ]
    }
   ],
   "source": [
    "print(arr[4])"
   ]
  },
  {
   "cell_type": "code",
   "execution_count": 45,
   "id": "75291e6c",
   "metadata": {},
   "outputs": [
    {
     "name": "stdout",
     "output_type": "stream",
     "text": [
      "9\n"
     ]
    }
   ],
   "source": [
    "print(arr[-1])"
   ]
  },
  {
   "cell_type": "code",
   "execution_count": 46,
   "id": "2aa84f70",
   "metadata": {},
   "outputs": [
    {
     "name": "stdout",
     "output_type": "stream",
     "text": [
      "[2 3 4]\n"
     ]
    }
   ],
   "source": [
    "print(arr[1:4])"
   ]
  },
  {
   "cell_type": "code",
   "execution_count": 52,
   "id": "8e2d741f",
   "metadata": {},
   "outputs": [
    {
     "name": "stdout",
     "output_type": "stream",
     "text": [
      "[7 8 9]\n"
     ]
    }
   ],
   "source": [
    "print(arr[arr>6])"
   ]
  },
  {
   "cell_type": "code",
   "execution_count": 55,
   "id": "c98abb87",
   "metadata": {},
   "outputs": [
    {
     "name": "stdout",
     "output_type": "stream",
     "text": [
      "[[1 2 5 6]\n",
      " [3 4 7 8]]\n"
     ]
    }
   ],
   "source": [
    "a1=np.array([[1,2],[3,4]])\n",
    "a2=np.array([[5,6],[7,8]])\n",
    "h=np.hstack((a1,a2))\n",
    "print(h)"
   ]
  },
  {
   "cell_type": "code",
   "execution_count": 56,
   "id": "7fe14389",
   "metadata": {},
   "outputs": [
    {
     "name": "stdout",
     "output_type": "stream",
     "text": [
      "[[1 2]\n",
      " [3 4]\n",
      " [5 6]\n",
      " [7 8]]\n"
     ]
    }
   ],
   "source": [
    "a1=np.array([[1,2],[3,4]])\n",
    "a2=np.array([[5,6],[7,8]])\n",
    "h=np.vstack((a1,a2))\n",
    "print(h)"
   ]
  },
  {
   "cell_type": "code",
   "execution_count": null,
   "id": "7a0d06c9",
   "metadata": {},
   "outputs": [],
   "source": [
    "combines data level into new depth level.rows to column"
   ]
  },
  {
   "cell_type": "code",
   "execution_count": 57,
   "id": "c422b588",
   "metadata": {},
   "outputs": [
    {
     "name": "stdout",
     "output_type": "stream",
     "text": [
      "[[[1 5]\n",
      "  [2 6]]\n",
      "\n",
      " [[3 7]\n",
      "  [4 8]]]\n"
     ]
    }
   ],
   "source": [
    "a1=np.array([[1,2],[3,4]])\n",
    "a2=np.array([[5,6],[7,8]])\n",
    "h=np.dstack((a1,a2))\n",
    "print(h)"
   ]
  },
  {
   "cell_type": "code",
   "execution_count": 62,
   "id": "2c8cf70f",
   "metadata": {},
   "outputs": [
    {
     "name": "stdout",
     "output_type": "stream",
     "text": [
      "[array([1, 2, 3]), array([4, 5, 6]), array([7, 8, 9])]\n"
     ]
    }
   ],
   "source": [
    "b=np.split(arr,3)\n",
    "print(b)"
   ]
  },
  {
   "cell_type": "code",
   "execution_count": 63,
   "id": "6116fe36",
   "metadata": {},
   "outputs": [
    {
     "name": "stdout",
     "output_type": "stream",
     "text": [
      "[array([1, 2, 3]), array([4, 5]), array([6, 7]), array([8, 9])]\n"
     ]
    }
   ],
   "source": [
    "print(np.array_split(arr,4))"
   ]
  },
  {
   "cell_type": "code",
   "execution_count": null,
   "id": "2de8168b",
   "metadata": {},
   "outputs": [],
   "source": []
  }
 ],
 "metadata": {
  "kernelspec": {
   "display_name": "Python 3 (ipykernel)",
   "language": "python",
   "name": "python3"
  },
  "language_info": {
   "codemirror_mode": {
    "name": "ipython",
    "version": 3
   },
   "file_extension": ".py",
   "mimetype": "text/x-python",
   "name": "python",
   "nbconvert_exporter": "python",
   "pygments_lexer": "ipython3",
   "version": "3.11.5"
  }
 },
 "nbformat": 4,
 "nbformat_minor": 5
}
