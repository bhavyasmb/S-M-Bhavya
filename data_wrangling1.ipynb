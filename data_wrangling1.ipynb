{
 "cells": [
  {
   "cell_type": "code",
   "execution_count": 7,
   "id": "974b8a80",
   "metadata": {},
   "outputs": [
    {
     "name": "stdout",
     "output_type": "stream",
     "text": [
      "  name  age\n",
      "0  sai   20\n",
      "1  sub   21\n",
      "2  poo   22\n",
      "   qualified\n",
      "0       True\n",
      "1       True\n",
      "2      False\n",
      "  name  age  qualified\n",
      "0  sai   20       True\n",
      "1  sub   21       True\n",
      "2  poo   22      False\n"
     ]
    }
   ],
   "source": [
    "import pandas as pd\n",
    "d1={\"name\":['sai','sub','poo'],'age':[20,21,22]}\n",
    "d2={'qualified':[True,True,False]}\n",
    "d3=pd.DataFrame(d1)\n",
    "print(d3)\n",
    "d4=pd.DataFrame(d2)\n",
    "print(d4)\n",
    "result=d3.join(d4)\n",
    "print(result)"
   ]
  },
  {
   "cell_type": "code",
   "execution_count": 13,
   "id": "f805f05c",
   "metadata": {},
   "outputs": [
    {
     "name": "stdout",
     "output_type": "stream",
     "text": [
      "         name  age\n",
      "0      bhavya   20\n",
      "1   shanmathi   21\n",
      "2  selvashree   22\n",
      "      name  age\n",
      "0     mahi   20\n",
      "1     kavi   21\n",
      "2  dharani   22\n",
      "       name_x  age   name_y\n",
      "0      bhavya   20     mahi\n",
      "1   shanmathi   21     kavi\n",
      "2  selvashree   22  dharani\n"
     ]
    }
   ],
   "source": [
    "d1={\"name\":['bhavya','shanmathi','selvashree'],\"age\":[20,21,22]}\n",
    "d2={'name':['mahi','kavi','dharani'],'age':[20,21,22]}\n",
    "a=pd.DataFrame(d1)\n",
    "b=pd.DataFrame(d2)\n",
    "print(a)\n",
    "print(b)\n",
    "s=a.merge(b,on='age')\n",
    "print(s)"
   ]
  },
  {
   "cell_type": "code",
   "execution_count": 14,
   "id": "3f062fa7",
   "metadata": {},
   "outputs": [
    {
     "name": "stdout",
     "output_type": "stream",
     "text": [
      "   team  variable  value\n",
      "0     a    points     70\n",
      "1     b    points     79\n",
      "2     c    points     95\n",
      "3     d    points     86\n",
      "4     a   assists     12\n",
      "5     b   assists     34\n",
      "6     c   assists     45\n",
      "7     d   assists     23\n",
      "8     a  rebounds     56\n",
      "9     b  rebounds     55\n",
      "10    c  rebounds     43\n",
      "11    d  rebounds     36\n"
     ]
    }
   ],
   "source": [
    "d1=pd.DataFrame({\"team\":['a','b','c','d'],\"points\":[70,79,95,86],'assists':[12,34,45,23],'rebounds':[56,55,43,36]})\n",
    "x=pd.melt(d1,id_vars='team',value_vars=['points','assists','rebounds'])\n",
    "print(x)"
   ]
  },
  {
   "cell_type": "code",
   "execution_count": null,
   "id": "96b17567",
   "metadata": {},
   "outputs": [],
   "source": []
  },
  {
   "cell_type": "markdown",
   "id": "6fc7d272",
   "metadata": {},
   "source": [
    "#                      "
   ]
  }
 ],
 "metadata": {
  "kernelspec": {
   "display_name": "Python 3 (ipykernel)",
   "language": "python",
   "name": "python3"
  },
  "language_info": {
   "codemirror_mode": {
    "name": "ipython",
    "version": 3
   },
   "file_extension": ".py",
   "mimetype": "text/x-python",
   "name": "python",
   "nbconvert_exporter": "python",
   "pygments_lexer": "ipython3",
   "version": "3.11.3"
  }
 },
 "nbformat": 4,
 "nbformat_minor": 5
}
